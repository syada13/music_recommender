{
 "cells": [
  {
   "cell_type": "code",
   "execution_count": 9,
   "id": "53c0fabd-b114-4b67-b0c9-485e9e2c730f",
   "metadata": {},
   "outputs": [
    {
     "data": {
      "text/plain": [
       "0.75"
      ]
     },
     "execution_count": 9,
     "metadata": {},
     "output_type": "execute_result"
    }
   ],
   "source": [
    "# Music recommentation model\n",
    "import pandas as pd\n",
    "from sklearn.tree import DecisionTreeClassifier\n",
    "from sklearn.model_selection import train_test_split\n",
    "from sklearn.metrics import accuracy_score\n",
    "\n",
    "# Load data\n",
    "music_data = pd.read_csv('music.csv')\n",
    "\n",
    "# Loaded data is already clean, no need to clean it up\n",
    "\n",
    "# Create train and test data sets\n",
    "X = music_data.drop(columns=['genre'])\n",
    "y = music_data['genre']\n",
    "X_train,X_test,y_train,y_test = train_test_split(X,y,test_size=0.2)\n",
    "\n",
    "# Create a model using DecisonTreeClassifier algorithm\n",
    "model = DecisionTreeClassifier()\n",
    "\n",
    "# Train model\n",
    "model.fit(X_train,y_train)\n",
    "\n",
    "#Predict recomendation\n",
    "prediction = model.predict(X_test)\n",
    "prediction\n",
    "\n",
    "# Validate model accurancy\n",
    "score = accuracy_score(y_test,prediction)\n",
    "score\n",
    "\n",
    "\n",
    "\n",
    "\n",
    "\n",
    "\n"
   ]
  }
 ],
 "metadata": {
  "kernelspec": {
   "display_name": "Python 3 (ipykernel)",
   "language": "python",
   "name": "python3"
  },
  "language_info": {
   "codemirror_mode": {
    "name": "ipython",
    "version": 3
   },
   "file_extension": ".py",
   "mimetype": "text/x-python",
   "name": "python",
   "nbconvert_exporter": "python",
   "pygments_lexer": "ipython3",
   "version": "3.10.15"
  }
 },
 "nbformat": 4,
 "nbformat_minor": 5
}
